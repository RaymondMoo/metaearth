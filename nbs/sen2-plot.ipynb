{
 "cells": [
  {
   "cell_type": "markdown",
   "id": "7dbac383",
   "metadata": {},
   "source": [
    "# Plotting SEN2 data from a NetCDF"
   ]
  },
  {
   "cell_type": "code",
   "execution_count": 1,
   "id": "2efd5843",
   "metadata": {},
   "outputs": [],
   "source": [
    "import rasterio\n",
    "from rasterio.plot import show\n",
    "from pathlib import Path\n",
    "\n",
    "# Test should run from root\n",
    "import os\n",
    "\n",
    "os.chdir(\"..\")"
   ]
  },
  {
   "cell_type": "code",
   "execution_count": 10,
   "id": "3592d46e",
   "metadata": {},
   "outputs": [
    {
     "name": "stderr",
     "output_type": "stream",
     "text": [
      "\u001b[34m17:47:16\u001b[0m \u001b[33mINFO\u001b[0m - \u001b[1mExtraction details for collection sentinel-2-l2a:\n",
      "\t\tprovider=<Microsoft Planetary Computer (MPC)> \n",
      "\t\ttimerange=<2022-01-01/2022-01-02>,\n",
      "\t\taoi_file=<config/aoi/demo.json>, \n",
      "\t\toutput_dir=<data>,\n",
      "\t\tassets=<['B02']>\u001b[0m\n",
      "\u001b[34m17:47:16\u001b[0m \u001b[33mINFO\u001b[0m - \u001b[1m\n",
      "Microsoft Planetary Computer (MPC) returned 1 items for sentinel-2-l2a for datetime 2022-01-01/2022-01-02\n",
      "\u001b[0m\n",
      "\u001b[34m17:47:16\u001b[0m \u001b[33mINFO\u001b[0m - \u001b[1m1 assets did not specify file size, will query size directly with http get request (this may take a few moments)\n",
      "system.query_asset_sizes=False can be used to disable this behavior\u001b[0m\n",
      "100%|█████████████████████████████████████████████| 1/1 [00:00<00:00,  1.40it/s]\n",
      "\u001b[34m17:47:17\u001b[0m \u001b[33mINFO\u001b[0m - \u001b[1m0 assets have unknown file size\u001b[0m\n",
      "\u001b[34m17:47:17\u001b[0m \u001b[33mINFO\u001b[0m - \u001b[1m1 assets to extract from 1 items\u001b[0m\n",
      "\u001b[34m17:47:17\u001b[0m \u001b[33mINFO\u001b[0m - \u001b[1mAsset types: \n",
      "key=B02; description=\"Band 2 - Blue - 10m\"\u001b[0m\n",
      "\u001b[34m17:47:17\u001b[0m \u001b[33mINFO\u001b[0m - \u001b[1mTotal asset size: 227 MB\u001b[0m\n",
      "\u001b[34m17:47:17\u001b[0m \u001b[33mINFO\u001b[0m - \u001b[1mStarting data extraction\u001b[0m\n",
      "\u001b[34m17:47:17\u001b[0m \u001b[33mINFO\u001b[0m - \u001b[1mExtracting 1 assets (227MB)...\u001b[0m\n",
      "MB:   0%|                                               | 0/227 [00:00<?, ?it/s]2022-08-29 17:47:20.280 | DEBUG    | metaearth.util.stac:download:48 - Downloading https://sentinel2l2a01.blob.core.windows.net/sentinel2-l2/11/S/LC/2022/01/01/S2A_MSIL2A_20220101T184801_N0300_R070_T11SLC_20220102T161247.SAFE/GRANULE/L2A_T11SLC_A034101_20220101T185006/IMG_DATA/R10m/T11SLC_20220101T184801_B02_10m.tif?st=2022-08-29T00%3A47%3A20Z&se=2022-08-30T01%3A32%3A20Z&sp=rl&sv=2021-06-08&sr=c&skoid=c85c15d6-d1ae-42d4-af60-e2ca0f81359b&sktid=72f988bf-86f1-41af-91ab-2d7cd011db47&skt=2022-08-29T17%3A58%3A07Z&ske=2022-09-05T17%3A58%3A07Z&sks=b&skv=2021-06-08&sig=fDgU19XBQ7WC6QmDuk84tTjaSwDDwU2qBB9sOodLKs0%3D to data/sentinel-2-l2a/S2A_MSIL2A_20220101T184801_R070_T11SLC_20220102T161247/T11SLC_20220101T184801_B02_10m.tif\n",
      "2022-08-29 17:55:37.829 | DEBUG    | metaearth.util.stac:download:50 - Downloaded data/sentinel-2-l2a/S2A_MSIL2A_20220101T184801_R070_T11SLC_20220102T161247/T11SLC_20220101T184801_B02_10m.tif\n",
      "MB: 454it [08:20,  1.10s/it]                                                    "
     ]
    },
    {
     "name": "stdout",
     "output_type": "stream",
     "text": [
      "Successfully extracted 1 assets. 0 failed.\n"
     ]
    },
    {
     "name": "stderr",
     "output_type": "stream",
     "text": [
      "\n"
     ]
    }
   ],
   "source": [
    "from omegaconf import OmegaConf\n",
    "from metaearth.api import extract_assets\n",
    "from metaearth.config import ConfigSchema\n",
    "\n",
    "cfg = OmegaConf.load(\"config/sen2.yaml\")\n",
    "cfg_schema = OmegaConf.structured(ConfigSchema)\n",
    "cfg = OmegaConf.merge(cfg_schema, cfg)\n",
    "\n",
    "\n",
    "# Constrain the test to only pull one item and one band\n",
    "for collection in cfg[\"collections\"].keys():\n",
    "    cfg[\"collections\"][collection][\"max_items\"] = 1\n",
    "    cfg[\"collections\"][collection][\"assets\"] = [\"B02\"]     \n",
    "\n",
    "successfully_extracted_assets, failed_assets = extract_assets(cfg)\n",
    "print(\n",
    "    f\"Successfully extracted {len(successfully_extracted_assets)} assets. {len(failed_assets)} failed.\"\n",
    ")"
   ]
  },
  {
   "cell_type": "code",
   "execution_count": 8,
   "id": "87c5eab1",
   "metadata": {},
   "outputs": [],
   "source": [
    "# Find the first GeoTIFF file and load it\n",
    "# We avoid hardcoding the path here in case the API changes down the road\n",
    "\n",
    "fpath = Path(cfg[\"default_collection\"][\"outdir\"])\n",
    "collection_for_gt = \"sentinel-2-l2a\"\n",
    "gt_files = list((fpath / collection_for_gt).glob(\"**/*.tif\"))\n",
    "\n",
    "assert (\n",
    "    len(gt_files) <= 1\n",
    "), \"There were too many files pulled, `max_items` failed to constrain.\"\n",
    "\n",
    "\n",
    "\n",
    "gt_file_fpath = gt_files[0]\n",
    "\n",
    "data = rasterio.open(gt_file_fpath)"
   ]
  },
  {
   "cell_type": "code",
   "execution_count": 9,
   "id": "37cc87aa",
   "metadata": {},
   "outputs": [
    {
     "name": "stderr",
     "output_type": "stream",
     "text": [
      "ERROR 1: TIFFFillTile:Read error at row 4294967295, col 4294967295, tile 0; got 0 bytes, expected 344501\n",
      "ERROR 1: TIFFReadEncodedTile() failed.\n",
      "ERROR 1: data/sentinel-2-l2a/S2A_MSIL2A_20220101T184801_R070_T11SLC_20220102T161247/T11SLC_20220101T184801_B02_10m.tif, band 1: IReadBlock failed at X offset 0, Y offset 0: TIFFReadEncodedTile() failed.\n"
     ]
    },
    {
     "ename": "RasterioIOError",
     "evalue": "Read or write failed. data/sentinel-2-l2a/S2A_MSIL2A_20220101T184801_R070_T11SLC_20220102T161247/T11SLC_20220101T184801_B02_10m.tif, band 1: IReadBlock failed at X offset 0, Y offset 0: TIFFReadEncodedTile() failed.",
     "output_type": "error",
     "traceback": [
      "\u001b[0;31m---------------------------------------------------------------------------\u001b[0m",
      "\u001b[0;31mCPLE_AppDefinedError\u001b[0m                      Traceback (most recent call last)",
      "File \u001b[0;32mrasterio/_io.pyx:936\u001b[0m, in \u001b[0;36mrasterio._io.DatasetReaderBase._read\u001b[0;34m()\u001b[0m\n",
      "File \u001b[0;32mrasterio/_io.pyx:174\u001b[0m, in \u001b[0;36mrasterio._io.io_multi_band\u001b[0;34m()\u001b[0m\n",
      "File \u001b[0;32mrasterio/_err.pyx:191\u001b[0m, in \u001b[0;36mrasterio._err.exc_wrap_int\u001b[0;34m()\u001b[0m\n",
      "\u001b[0;31mCPLE_AppDefinedError\u001b[0m: data/sentinel-2-l2a/S2A_MSIL2A_20220101T184801_R070_T11SLC_20220102T161247/T11SLC_20220101T184801_B02_10m.tif, band 1: IReadBlock failed at X offset 0, Y offset 0: TIFFReadEncodedTile() failed.",
      "\nDuring handling of the above exception, another exception occurred:\n",
      "\u001b[0;31mRasterioIOError\u001b[0m                           Traceback (most recent call last)",
      "Input \u001b[0;32mIn [9]\u001b[0m, in \u001b[0;36m<cell line: 1>\u001b[0;34m()\u001b[0m\n\u001b[0;32m----> 1\u001b[0m \u001b[43mshow\u001b[49m\u001b[43m(\u001b[49m\u001b[43mdata\u001b[49m\u001b[43m)\u001b[49m\n\u001b[1;32m      2\u001b[0m \u001b[38;5;28mprint\u001b[39m(data\u001b[38;5;241m.\u001b[39mcrs)\n",
      "File \u001b[0;32m~/opt/anaconda3/envs/metaearth/lib/python3.8/site-packages/rasterio/plot.py:93\u001b[0m, in \u001b[0;36mshow\u001b[0;34m(source, with_bounds, contour, contour_label_kws, ax, title, transform, adjust, **kwargs)\u001b[0m\n\u001b[1;32m     90\u001b[0m     kwargs[\u001b[38;5;124m'\u001b[39m\u001b[38;5;124mextent\u001b[39m\u001b[38;5;124m'\u001b[39m] \u001b[38;5;241m=\u001b[39m plotting_extent(source)\n\u001b[1;32m     92\u001b[0m \u001b[38;5;28;01mif\u001b[39;00m source\u001b[38;5;241m.\u001b[39mcount \u001b[38;5;241m==\u001b[39m \u001b[38;5;241m1\u001b[39m:\n\u001b[0;32m---> 93\u001b[0m     arr \u001b[38;5;241m=\u001b[39m \u001b[43msource\u001b[49m\u001b[38;5;241;43m.\u001b[39;49m\u001b[43mread\u001b[49m\u001b[43m(\u001b[49m\u001b[38;5;241;43m1\u001b[39;49m\u001b[43m,\u001b[49m\u001b[43m \u001b[49m\u001b[43mmasked\u001b[49m\u001b[38;5;241;43m=\u001b[39;49m\u001b[38;5;28;43;01mTrue\u001b[39;49;00m\u001b[43m)\u001b[49m\n\u001b[1;32m     94\u001b[0m \u001b[38;5;28;01melse\u001b[39;00m:\n\u001b[1;32m     95\u001b[0m     \u001b[38;5;28;01mtry\u001b[39;00m:\n\u001b[1;32m     96\u001b[0m \n\u001b[1;32m     97\u001b[0m         \u001b[38;5;66;03m# Lookup table for the color space in the source file. This will allow us to re-order it\u001b[39;00m\n\u001b[1;32m     98\u001b[0m         \u001b[38;5;66;03m# to RGB if needed\u001b[39;00m\n",
      "File \u001b[0;32mrasterio/_io.pyx:612\u001b[0m, in \u001b[0;36mrasterio._io.DatasetReaderBase.read\u001b[0;34m()\u001b[0m\n",
      "File \u001b[0;32mrasterio/_io.pyx:939\u001b[0m, in \u001b[0;36mrasterio._io.DatasetReaderBase._read\u001b[0;34m()\u001b[0m\n",
      "\u001b[0;31mRasterioIOError\u001b[0m: Read or write failed. data/sentinel-2-l2a/S2A_MSIL2A_20220101T184801_R070_T11SLC_20220102T161247/T11SLC_20220101T184801_B02_10m.tif, band 1: IReadBlock failed at X offset 0, Y offset 0: TIFFReadEncodedTile() failed."
     ]
    }
   ],
   "source": [
    "show(data)\n",
    "print(data.crs)"
   ]
  },
  {
   "cell_type": "code",
   "execution_count": null,
   "id": "b456f4ec",
   "metadata": {},
   "outputs": [],
   "source": []
  }
 ],
 "metadata": {
  "kernelspec": {
   "display_name": "metaearth",
   "language": "python",
   "name": "metaearth"
  },
  "language_info": {
   "codemirror_mode": {
    "name": "ipython",
    "version": 3
   },
   "file_extension": ".py",
   "mimetype": "text/x-python",
   "name": "python",
   "nbconvert_exporter": "python",
   "pygments_lexer": "ipython3",
   "version": "3.8.2"
  }
 },
 "nbformat": 4,
 "nbformat_minor": 5
}
